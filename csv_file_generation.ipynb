{
 "cells": [
  {
   "cell_type": "code",
   "execution_count": 2,
   "metadata": {},
   "outputs": [
    {
     "name": "stdout",
     "output_type": "stream",
     "text": [
      "DataFrame 'df' is now loaded and defined.\n",
      "Total rows available in 'df' for download: 6362620\n"
     ]
    },
    {
     "data": {
      "application/vnd.jupyter.widget-view+json": {
       "model_id": "8e3e7a83cc18439489b63a7d6d9129d6",
       "version_major": 2,
       "version_minor": 0
      },
      "text/plain": [
       "IntText(value=6362620, description='Rows to Download:')"
      ]
     },
     "metadata": {},
     "output_type": "display_data"
    },
    {
     "data": {
      "application/vnd.jupyter.widget-view+json": {
       "model_id": "f0e45b0562b64752876284249b1b5c75",
       "version_major": 2,
       "version_minor": 0
      },
      "text/plain": [
       "Button(description='Generate Download Link', style=ButtonStyle())"
      ]
     },
     "metadata": {},
     "output_type": "display_data"
    },
    {
     "data": {
      "application/vnd.jupyter.widget-view+json": {
       "model_id": "d87a6028cc954717b97c72df8ab6025c",
       "version_major": 2,
       "version_minor": 0
      },
      "text/plain": [
       "Output()"
      ]
     },
     "metadata": {},
     "output_type": "display_data"
    }
   ],
   "source": [
    "import pandas as pd\n",
    "import base64\n",
    "from IPython.display import display, HTML\n",
    "import ipywidgets as widgets\n",
    "\n",
    "# Load your original data file\n",
    "# If you didn't rename the file, it was likely named 'PS_2017439271_1491204439457_log.csv'\n",
    "data_frame = pd.read_csv(\"AIML Dataset.csv\")\n",
    "\n",
    "# Create the variable 'df' as you requested\n",
    "# If you performed cleaning/feature engineering on 'data_frame' earlier,\n",
    "# ensure 'data_frame' reflects those changes before running this line.\n",
    "df = data_frame.copy()\n",
    "\n",
    "print(\"DataFrame 'df' is now loaded and defined.\")\n",
    "\n",
    "# --- Source DataFrame is now correctly assumed as 'df' ---\n",
    "# We use .copy() to ensure we don't accidentally modify the source data.\n",
    "processed_data = df.copy() \n",
    "\n",
    "def generate_download_link(n_rows):\n",
    "    \"\"\"\n",
    "    Generates an HTML download link for the specified number of rows from the DataFrame.\n",
    "    \"\"\"\n",
    "    total_rows = len(processed_data)\n",
    "    \n",
    "    if n_rows <= 0 or n_rows >= total_rows:\n",
    "        # If user requests all rows or an invalid number, download the entire set\n",
    "        print(f\"Downloading all {total_rows} rows.\")\n",
    "        df_to_download = processed_data\n",
    "    else:\n",
    "        # Download only the top N rows\n",
    "        df_to_download = processed_data.head(n_rows)\n",
    "        print(f\"Ready to download the first {n_rows} rows.\")\n",
    "\n",
    "    # --- CSV Generation and Link Creation ---\n",
    "    filename = f'fraud_data_top_{len(df_to_download)}_rows.csv'\n",
    "    title = f'Click here to download the {len(df_to_download)} rows CSV'\n",
    "    \n",
    "    # Encode DataFrame to base64 for download\n",
    "    csv = df_to_download.to_csv(index=False)\n",
    "    b64 = base64.b64encode(csv.encode()).decode()\n",
    "    href = f'<a href=\"data:text/csv;base64,{b64}\" download=\"{filename}\">{title}</a>'\n",
    "    \n",
    "    # Display the link element\n",
    "    display(HTML(href))\n",
    "\n",
    "\n",
    "# --- Create Interactive Widget ---\n",
    "\n",
    "# 1. Create the text input widget with the total row count as default\n",
    "row_input = widgets.IntText(\n",
    "    value=len(processed_data),\n",
    "    description='Rows to Download:',\n",
    "    min=1,\n",
    "    max=len(processed_data),\n",
    "    step=1,\n",
    "    disabled=False\n",
    ")\n",
    "\n",
    "# 2. Create the download button\n",
    "download_button = widgets.Button(description='Generate Download Link')\n",
    "\n",
    "# 3. Define the action when the button is clicked\n",
    "def on_button_click(b):\n",
    "    # Clear previous output (like old links)\n",
    "    output.clear_output()\n",
    "    with output:\n",
    "        # Call the link generator with the current value from the input box\n",
    "        generate_download_link(row_input.value)\n",
    "\n",
    "# 4. Link the button to the action\n",
    "download_button.on_click(on_button_click)\n",
    "\n",
    "# 5. Create an output area for the generated link\n",
    "output = widgets.Output()\n",
    "\n",
    "# 6. Display all interactive elements\n",
    "print(f\"Total rows available in 'df' for download: {len(processed_data)}\")\n",
    "display(row_input, download_button, output)"
   ]
  },
  {
   "cell_type": "code",
   "execution_count": null,
   "metadata": {},
   "outputs": [],
   "source": []
  }
 ],
 "metadata": {
  "kernelspec": {
   "display_name": "Python [conda env:base] *",
   "language": "python",
   "name": "conda-base-py"
  },
  "language_info": {
   "codemirror_mode": {
    "name": "ipython",
    "version": 3
   },
   "file_extension": ".py",
   "mimetype": "text/x-python",
   "name": "python",
   "nbconvert_exporter": "python",
   "pygments_lexer": "ipython3",
   "version": "3.12.7"
  }
 },
 "nbformat": 4,
 "nbformat_minor": 4
}
